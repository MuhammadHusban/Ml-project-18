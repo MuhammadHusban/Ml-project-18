{
 "cells": [
  {
   "cell_type": "markdown",
   "id": "578cf0ec",
   "metadata": {},
   "source": [
    "# Importing Libraries"
   ]
  },
  {
   "cell_type": "code",
   "execution_count": 1,
   "id": "bc05694c",
   "metadata": {},
   "outputs": [],
   "source": [
    "import pandas as pd\n",
    "import matplotlib.pyplot as plt\n",
    "from sklearn.metrics import accuracy_score,f1_score,confusion_matrix,recall_score,precision_score,mean_squared_error\n",
    "from sklearn.model_selection import train_test_split,cross_val_score,cross_val_predict\n",
    "from sklearn.linear_model import LinearRegression\n",
    "from sklearn.ensemble import RandomForestRegressor,AdaBoostRegressor,BaggingRegressor,ExtraTreesRegressor,GradientBoostingRegressor\n",
    "from sklearn.tree import DecisionTreeRegressor\n",
    "from joblib import load,dump\n",
    "import numpy as np\n",
    "from sklearn.naive_bayes import GaussianNB\n",
    "from xgboost import XGBRegressor\n",
    "from sklearn.linear_model import SGDRegressor\n",
    "from sklearn.kernel_ridge import KernelRidge\n",
    "from sklearn.linear_model import ElasticNet\n",
    "from sklearn.linear_model import BayesianRidge\n",
    "from sklearn.svm import SVR\n",
    "from lightgbm import LGBMRegressor\n",
    "from catboost import CatBoostRegressor\n",
    "from joblib import dump,load"
   ]
  },
  {
   "cell_type": "markdown",
   "id": "299b056f",
   "metadata": {},
   "source": [
    "# EDA"
   ]
  },
  {
   "cell_type": "code",
   "execution_count": 2,
   "id": "40877ecf",
   "metadata": {},
   "outputs": [],
   "source": [
    "df = pd.read_csv(\"Property_with_Feature_Engineering.csv\")"
   ]
  },
  {
   "cell_type": "code",
   "execution_count": 3,
   "id": "8fd6bc2d",
   "metadata": {},
   "outputs": [
    {
     "data": {
      "text/html": [
       "<div>\n",
       "<style scoped>\n",
       "    .dataframe tbody tr th:only-of-type {\n",
       "        vertical-align: middle;\n",
       "    }\n",
       "\n",
       "    .dataframe tbody tr th {\n",
       "        vertical-align: top;\n",
       "    }\n",
       "\n",
       "    .dataframe thead th {\n",
       "        text-align: right;\n",
       "    }\n",
       "</style>\n",
       "<table border=\"1\" class=\"dataframe\">\n",
       "  <thead>\n",
       "    <tr style=\"text-align: right;\">\n",
       "      <th></th>\n",
       "      <th>property_type</th>\n",
       "      <th>price</th>\n",
       "      <th>price_bin</th>\n",
       "      <th>location</th>\n",
       "      <th>city</th>\n",
       "      <th>province_name</th>\n",
       "      <th>locality</th>\n",
       "      <th>latitude</th>\n",
       "      <th>longitude</th>\n",
       "      <th>baths</th>\n",
       "      <th>area</th>\n",
       "      <th>area_marla</th>\n",
       "      <th>area_sqft</th>\n",
       "      <th>purpose</th>\n",
       "      <th>bedrooms</th>\n",
       "    </tr>\n",
       "  </thead>\n",
       "  <tbody>\n",
       "    <tr>\n",
       "      <th>0</th>\n",
       "      <td>House</td>\n",
       "      <td>220000000</td>\n",
       "      <td>Very High</td>\n",
       "      <td>Model Town</td>\n",
       "      <td>Lahore</td>\n",
       "      <td>Punjab</td>\n",
       "      <td>Model Town, Lahore, Punjab</td>\n",
       "      <td>31.483869</td>\n",
       "      <td>74.325686</td>\n",
       "      <td>0</td>\n",
       "      <td>6 Kanal</td>\n",
       "      <td>120.0</td>\n",
       "      <td>32670.12</td>\n",
       "      <td>For Sale</td>\n",
       "      <td>0</td>\n",
       "    </tr>\n",
       "    <tr>\n",
       "      <th>1</th>\n",
       "      <td>House</td>\n",
       "      <td>40000000</td>\n",
       "      <td>Very High</td>\n",
       "      <td>Multan Road</td>\n",
       "      <td>Lahore</td>\n",
       "      <td>Punjab</td>\n",
       "      <td>Multan Road, Lahore, Punjab</td>\n",
       "      <td>31.431593</td>\n",
       "      <td>74.179980</td>\n",
       "      <td>5</td>\n",
       "      <td>1 Kanal</td>\n",
       "      <td>20.0</td>\n",
       "      <td>5445.02</td>\n",
       "      <td>For Sale</td>\n",
       "      <td>5</td>\n",
       "    </tr>\n",
       "    <tr>\n",
       "      <th>2</th>\n",
       "      <td>House</td>\n",
       "      <td>9500000</td>\n",
       "      <td>Low</td>\n",
       "      <td>Eden</td>\n",
       "      <td>Lahore</td>\n",
       "      <td>Punjab</td>\n",
       "      <td>Eden, Lahore, Punjab</td>\n",
       "      <td>31.499348</td>\n",
       "      <td>74.416959</td>\n",
       "      <td>0</td>\n",
       "      <td>9 Marla</td>\n",
       "      <td>9.0</td>\n",
       "      <td>2450.26</td>\n",
       "      <td>For Sale</td>\n",
       "      <td>3</td>\n",
       "    </tr>\n",
       "    <tr>\n",
       "      <th>3</th>\n",
       "      <td>House</td>\n",
       "      <td>125000000</td>\n",
       "      <td>Very High</td>\n",
       "      <td>Gulberg</td>\n",
       "      <td>Lahore</td>\n",
       "      <td>Punjab</td>\n",
       "      <td>Gulberg, Lahore, Punjab</td>\n",
       "      <td>31.522069</td>\n",
       "      <td>74.355512</td>\n",
       "      <td>7</td>\n",
       "      <td>1 Kanal</td>\n",
       "      <td>20.0</td>\n",
       "      <td>5445.02</td>\n",
       "      <td>For Sale</td>\n",
       "      <td>8</td>\n",
       "    </tr>\n",
       "    <tr>\n",
       "      <th>4</th>\n",
       "      <td>House</td>\n",
       "      <td>21000000</td>\n",
       "      <td>High</td>\n",
       "      <td>Allama Iqbal Town</td>\n",
       "      <td>Lahore</td>\n",
       "      <td>Punjab</td>\n",
       "      <td>Allama Iqbal Town, Lahore, Punjab</td>\n",
       "      <td>31.506483</td>\n",
       "      <td>74.286017</td>\n",
       "      <td>5</td>\n",
       "      <td>11 Marla</td>\n",
       "      <td>11.0</td>\n",
       "      <td>2994.76</td>\n",
       "      <td>For Sale</td>\n",
       "      <td>6</td>\n",
       "    </tr>\n",
       "  </tbody>\n",
       "</table>\n",
       "</div>"
      ],
      "text/plain": [
       "  property_type      price  price_bin           location    city  \\\n",
       "0         House  220000000  Very High         Model Town  Lahore   \n",
       "1         House   40000000  Very High        Multan Road  Lahore   \n",
       "2         House    9500000        Low               Eden  Lahore   \n",
       "3         House  125000000  Very High            Gulberg  Lahore   \n",
       "4         House   21000000       High  Allama Iqbal Town  Lahore   \n",
       "\n",
       "  province_name                           locality   latitude  longitude  \\\n",
       "0        Punjab         Model Town, Lahore, Punjab  31.483869  74.325686   \n",
       "1        Punjab        Multan Road, Lahore, Punjab  31.431593  74.179980   \n",
       "2        Punjab               Eden, Lahore, Punjab  31.499348  74.416959   \n",
       "3        Punjab            Gulberg, Lahore, Punjab  31.522069  74.355512   \n",
       "4        Punjab  Allama Iqbal Town, Lahore, Punjab  31.506483  74.286017   \n",
       "\n",
       "   baths      area  area_marla  area_sqft   purpose  bedrooms  \n",
       "0      0   6 Kanal       120.0   32670.12  For Sale         0  \n",
       "1      5   1 Kanal        20.0    5445.02  For Sale         5  \n",
       "2      0   9 Marla         9.0    2450.26  For Sale         3  \n",
       "3      7   1 Kanal        20.0    5445.02  For Sale         8  \n",
       "4      5  11 Marla        11.0    2994.76  For Sale         6  "
      ]
     },
     "execution_count": 3,
     "metadata": {},
     "output_type": "execute_result"
    }
   ],
   "source": [
    "df.head()"
   ]
  },
  {
   "cell_type": "code",
   "execution_count": 4,
   "id": "e16acbdd",
   "metadata": {},
   "outputs": [
    {
     "data": {
      "text/html": [
       "<div>\n",
       "<style scoped>\n",
       "    .dataframe tbody tr th:only-of-type {\n",
       "        vertical-align: middle;\n",
       "    }\n",
       "\n",
       "    .dataframe tbody tr th {\n",
       "        vertical-align: top;\n",
       "    }\n",
       "\n",
       "    .dataframe thead th {\n",
       "        text-align: right;\n",
       "    }\n",
       "</style>\n",
       "<table border=\"1\" class=\"dataframe\">\n",
       "  <thead>\n",
       "    <tr style=\"text-align: right;\">\n",
       "      <th></th>\n",
       "      <th>property_type</th>\n",
       "      <th>price</th>\n",
       "      <th>price_bin</th>\n",
       "      <th>location</th>\n",
       "      <th>city</th>\n",
       "      <th>province_name</th>\n",
       "      <th>locality</th>\n",
       "      <th>latitude</th>\n",
       "      <th>longitude</th>\n",
       "      <th>baths</th>\n",
       "      <th>area</th>\n",
       "      <th>area_marla</th>\n",
       "      <th>area_sqft</th>\n",
       "      <th>purpose</th>\n",
       "      <th>bedrooms</th>\n",
       "    </tr>\n",
       "  </thead>\n",
       "  <tbody>\n",
       "    <tr>\n",
       "      <th>191388</th>\n",
       "      <td>Upper Portion</td>\n",
       "      <td>70000</td>\n",
       "      <td>Very High</td>\n",
       "      <td>I-8</td>\n",
       "      <td>Islamabad</td>\n",
       "      <td>Islamabad Capital</td>\n",
       "      <td>I-8, Islamabad, Islamabad Capital</td>\n",
       "      <td>33.668497</td>\n",
       "      <td>73.074160</td>\n",
       "      <td>0</td>\n",
       "      <td>12.4 Marla</td>\n",
       "      <td>12.4</td>\n",
       "      <td>3375.91</td>\n",
       "      <td>For Rent</td>\n",
       "      <td>3</td>\n",
       "    </tr>\n",
       "    <tr>\n",
       "      <th>191389</th>\n",
       "      <td>Upper Portion</td>\n",
       "      <td>40000</td>\n",
       "      <td>Medium</td>\n",
       "      <td>I-8</td>\n",
       "      <td>Islamabad</td>\n",
       "      <td>Islamabad Capital</td>\n",
       "      <td>I-8, Islamabad, Islamabad Capital</td>\n",
       "      <td>33.668497</td>\n",
       "      <td>73.074160</td>\n",
       "      <td>0</td>\n",
       "      <td>12.4 Marla</td>\n",
       "      <td>12.4</td>\n",
       "      <td>3375.91</td>\n",
       "      <td>For Rent</td>\n",
       "      <td>2</td>\n",
       "    </tr>\n",
       "    <tr>\n",
       "      <th>191390</th>\n",
       "      <td>House</td>\n",
       "      <td>160000</td>\n",
       "      <td>High</td>\n",
       "      <td>G-10</td>\n",
       "      <td>Islamabad</td>\n",
       "      <td>Islamabad Capital</td>\n",
       "      <td>G-10, Islamabad, Islamabad Capital</td>\n",
       "      <td>33.676104</td>\n",
       "      <td>73.013842</td>\n",
       "      <td>6</td>\n",
       "      <td>1 Kanal</td>\n",
       "      <td>20.0</td>\n",
       "      <td>5445.02</td>\n",
       "      <td>For Rent</td>\n",
       "      <td>6</td>\n",
       "    </tr>\n",
       "    <tr>\n",
       "      <th>191391</th>\n",
       "      <td>Flat</td>\n",
       "      <td>25000</td>\n",
       "      <td>Low</td>\n",
       "      <td>DHA Defence</td>\n",
       "      <td>Islamabad</td>\n",
       "      <td>Islamabad Capital</td>\n",
       "      <td>DHA Defence, Islamabad, Islamabad Capital</td>\n",
       "      <td>33.527944</td>\n",
       "      <td>73.161392</td>\n",
       "      <td>2</td>\n",
       "      <td>2.7 Marla</td>\n",
       "      <td>2.7</td>\n",
       "      <td>735.08</td>\n",
       "      <td>For Rent</td>\n",
       "      <td>2</td>\n",
       "    </tr>\n",
       "    <tr>\n",
       "      <th>191392</th>\n",
       "      <td>Upper Portion</td>\n",
       "      <td>26000</td>\n",
       "      <td>Low</td>\n",
       "      <td>I-10</td>\n",
       "      <td>Islamabad</td>\n",
       "      <td>Islamabad Capital</td>\n",
       "      <td>I-10, Islamabad, Islamabad Capital</td>\n",
       "      <td>33.649779</td>\n",
       "      <td>73.029385</td>\n",
       "      <td>1</td>\n",
       "      <td>0 Marla</td>\n",
       "      <td>0.0</td>\n",
       "      <td>0.00</td>\n",
       "      <td>For Rent</td>\n",
       "      <td>3</td>\n",
       "    </tr>\n",
       "  </tbody>\n",
       "</table>\n",
       "</div>"
      ],
      "text/plain": [
       "        property_type   price  price_bin     location       city  \\\n",
       "191388  Upper Portion   70000  Very High          I-8  Islamabad   \n",
       "191389  Upper Portion   40000     Medium          I-8  Islamabad   \n",
       "191390          House  160000       High         G-10  Islamabad   \n",
       "191391           Flat   25000        Low  DHA Defence  Islamabad   \n",
       "191392  Upper Portion   26000        Low         I-10  Islamabad   \n",
       "\n",
       "            province_name                                   locality  \\\n",
       "191388  Islamabad Capital          I-8, Islamabad, Islamabad Capital   \n",
       "191389  Islamabad Capital          I-8, Islamabad, Islamabad Capital   \n",
       "191390  Islamabad Capital         G-10, Islamabad, Islamabad Capital   \n",
       "191391  Islamabad Capital  DHA Defence, Islamabad, Islamabad Capital   \n",
       "191392  Islamabad Capital         I-10, Islamabad, Islamabad Capital   \n",
       "\n",
       "         latitude  longitude  baths        area  area_marla  area_sqft  \\\n",
       "191388  33.668497  73.074160      0  12.4 Marla        12.4    3375.91   \n",
       "191389  33.668497  73.074160      0  12.4 Marla        12.4    3375.91   \n",
       "191390  33.676104  73.013842      6     1 Kanal        20.0    5445.02   \n",
       "191391  33.527944  73.161392      2   2.7 Marla         2.7     735.08   \n",
       "191392  33.649779  73.029385      1     0 Marla         0.0       0.00   \n",
       "\n",
       "         purpose  bedrooms  \n",
       "191388  For Rent         3  \n",
       "191389  For Rent         2  \n",
       "191390  For Rent         6  \n",
       "191391  For Rent         2  \n",
       "191392  For Rent         3  "
      ]
     },
     "execution_count": 4,
     "metadata": {},
     "output_type": "execute_result"
    }
   ],
   "source": [
    "df.tail()"
   ]
  },
  {
   "cell_type": "code",
   "execution_count": 5,
   "id": "89ea1e9c",
   "metadata": {},
   "outputs": [],
   "source": [
    "df_1 = df.iloc[56604:56917]"
   ]
  },
  {
   "cell_type": "code",
   "execution_count": 6,
   "id": "03612775",
   "metadata": {},
   "outputs": [
    {
     "data": {
      "text/html": [
       "<div>\n",
       "<style scoped>\n",
       "    .dataframe tbody tr th:only-of-type {\n",
       "        vertical-align: middle;\n",
       "    }\n",
       "\n",
       "    .dataframe tbody tr th {\n",
       "        vertical-align: top;\n",
       "    }\n",
       "\n",
       "    .dataframe thead th {\n",
       "        text-align: right;\n",
       "    }\n",
       "</style>\n",
       "<table border=\"1\" class=\"dataframe\">\n",
       "  <thead>\n",
       "    <tr style=\"text-align: right;\">\n",
       "      <th></th>\n",
       "      <th>property_type</th>\n",
       "      <th>price</th>\n",
       "      <th>price_bin</th>\n",
       "      <th>location</th>\n",
       "      <th>city</th>\n",
       "      <th>province_name</th>\n",
       "      <th>locality</th>\n",
       "      <th>latitude</th>\n",
       "      <th>longitude</th>\n",
       "      <th>baths</th>\n",
       "      <th>area</th>\n",
       "      <th>area_marla</th>\n",
       "      <th>area_sqft</th>\n",
       "      <th>purpose</th>\n",
       "      <th>bedrooms</th>\n",
       "    </tr>\n",
       "  </thead>\n",
       "  <tbody>\n",
       "    <tr>\n",
       "      <th>56604</th>\n",
       "      <td>Flat</td>\n",
       "      <td>9000000</td>\n",
       "      <td>High</td>\n",
       "      <td>DHA Defence</td>\n",
       "      <td>Karachi</td>\n",
       "      <td>Sindh</td>\n",
       "      <td>DHA Defence, Karachi, Sindh</td>\n",
       "      <td>24.797098</td>\n",
       "      <td>67.050927</td>\n",
       "      <td>2</td>\n",
       "      <td>4.2 Marla</td>\n",
       "      <td>4.2</td>\n",
       "      <td>1143.45</td>\n",
       "      <td>For Sale</td>\n",
       "      <td>2</td>\n",
       "    </tr>\n",
       "    <tr>\n",
       "      <th>56605</th>\n",
       "      <td>Lower Portion</td>\n",
       "      <td>9500000</td>\n",
       "      <td>High</td>\n",
       "      <td>Jamshed Town</td>\n",
       "      <td>Karachi</td>\n",
       "      <td>Sindh</td>\n",
       "      <td>Jamshed Town, Karachi, Sindh</td>\n",
       "      <td>24.871447</td>\n",
       "      <td>67.058573</td>\n",
       "      <td>3</td>\n",
       "      <td>3.6 Marla</td>\n",
       "      <td>3.6</td>\n",
       "      <td>980.10</td>\n",
       "      <td>For Sale</td>\n",
       "      <td>2</td>\n",
       "    </tr>\n",
       "    <tr>\n",
       "      <th>56606</th>\n",
       "      <td>House</td>\n",
       "      <td>82500000</td>\n",
       "      <td>Very High</td>\n",
       "      <td>DHA Defence</td>\n",
       "      <td>Karachi</td>\n",
       "      <td>Sindh</td>\n",
       "      <td>DHA Defence, Karachi, Sindh</td>\n",
       "      <td>24.805045</td>\n",
       "      <td>67.064323</td>\n",
       "      <td>5</td>\n",
       "      <td>1 Kanal</td>\n",
       "      <td>20.0</td>\n",
       "      <td>5445.02</td>\n",
       "      <td>For Sale</td>\n",
       "      <td>5</td>\n",
       "    </tr>\n",
       "    <tr>\n",
       "      <th>56607</th>\n",
       "      <td>House</td>\n",
       "      <td>7000000</td>\n",
       "      <td>Low</td>\n",
       "      <td>Korangi</td>\n",
       "      <td>Karachi</td>\n",
       "      <td>Sindh</td>\n",
       "      <td>Korangi, Karachi, Sindh</td>\n",
       "      <td>24.832078</td>\n",
       "      <td>67.129869</td>\n",
       "      <td>3</td>\n",
       "      <td>5 Marla</td>\n",
       "      <td>5.0</td>\n",
       "      <td>1361.25</td>\n",
       "      <td>For Sale</td>\n",
       "      <td>5</td>\n",
       "    </tr>\n",
       "    <tr>\n",
       "      <th>56608</th>\n",
       "      <td>Flat</td>\n",
       "      <td>14500000</td>\n",
       "      <td>Very High</td>\n",
       "      <td>North Nazimabad</td>\n",
       "      <td>Karachi</td>\n",
       "      <td>Sindh</td>\n",
       "      <td>North Nazimabad, Karachi, Sindh</td>\n",
       "      <td>24.935635</td>\n",
       "      <td>67.051020</td>\n",
       "      <td>3</td>\n",
       "      <td>7.1 Marla</td>\n",
       "      <td>7.1</td>\n",
       "      <td>1932.98</td>\n",
       "      <td>For Sale</td>\n",
       "      <td>3</td>\n",
       "    </tr>\n",
       "  </tbody>\n",
       "</table>\n",
       "</div>"
      ],
      "text/plain": [
       "       property_type     price  price_bin         location     city  \\\n",
       "56604           Flat   9000000       High      DHA Defence  Karachi   \n",
       "56605  Lower Portion   9500000       High     Jamshed Town  Karachi   \n",
       "56606          House  82500000  Very High      DHA Defence  Karachi   \n",
       "56607          House   7000000        Low          Korangi  Karachi   \n",
       "56608           Flat  14500000  Very High  North Nazimabad  Karachi   \n",
       "\n",
       "      province_name                         locality   latitude  longitude  \\\n",
       "56604         Sindh      DHA Defence, Karachi, Sindh  24.797098  67.050927   \n",
       "56605         Sindh     Jamshed Town, Karachi, Sindh  24.871447  67.058573   \n",
       "56606         Sindh      DHA Defence, Karachi, Sindh  24.805045  67.064323   \n",
       "56607         Sindh          Korangi, Karachi, Sindh  24.832078  67.129869   \n",
       "56608         Sindh  North Nazimabad, Karachi, Sindh  24.935635  67.051020   \n",
       "\n",
       "       baths       area  area_marla  area_sqft   purpose  bedrooms  \n",
       "56604      2  4.2 Marla         4.2    1143.45  For Sale         2  \n",
       "56605      3  3.6 Marla         3.6     980.10  For Sale         2  \n",
       "56606      5    1 Kanal        20.0    5445.02  For Sale         5  \n",
       "56607      3    5 Marla         5.0    1361.25  For Sale         5  \n",
       "56608      3  7.1 Marla         7.1    1932.98  For Sale         3  "
      ]
     },
     "execution_count": 6,
     "metadata": {},
     "output_type": "execute_result"
    }
   ],
   "source": [
    "df_1.head()"
   ]
  },
  {
   "cell_type": "code",
   "execution_count": 7,
   "id": "c0ab2ee9",
   "metadata": {},
   "outputs": [
    {
     "name": "stderr",
     "output_type": "stream",
     "text": [
      "C:\\Users\\HP\\AppData\\Local\\Temp\\ipykernel_9272\\2621656888.py:1: SettingWithCopyWarning: \n",
      "A value is trying to be set on a copy of a slice from a DataFrame\n",
      "\n",
      "See the caveats in the documentation: https://pandas.pydata.org/pandas-docs/stable/user_guide/indexing.html#returning-a-view-versus-a-copy\n",
      "  df_1.drop('price_bin',axis = 1,inplace = True)\n"
     ]
    }
   ],
   "source": [
    "df_1.drop('price_bin',axis = 1,inplace = True)"
   ]
  },
  {
   "cell_type": "code",
   "execution_count": 8,
   "id": "776235eb",
   "metadata": {},
   "outputs": [
    {
     "name": "stderr",
     "output_type": "stream",
     "text": [
      "C:\\Users\\HP\\AppData\\Local\\Temp\\ipykernel_9272\\992130300.py:1: SettingWithCopyWarning: \n",
      "A value is trying to be set on a copy of a slice from a DataFrame\n",
      "\n",
      "See the caveats in the documentation: https://pandas.pydata.org/pandas-docs/stable/user_guide/indexing.html#returning-a-view-versus-a-copy\n",
      "  df_1.drop('province_name',axis = 1,inplace = True)\n"
     ]
    }
   ],
   "source": [
    "df_1.drop('province_name',axis = 1,inplace = True)"
   ]
  },
  {
   "cell_type": "code",
   "execution_count": 9,
   "id": "d8ad7441",
   "metadata": {},
   "outputs": [
    {
     "name": "stderr",
     "output_type": "stream",
     "text": [
      "C:\\Users\\HP\\AppData\\Local\\Temp\\ipykernel_9272\\3960584482.py:1: SettingWithCopyWarning: \n",
      "A value is trying to be set on a copy of a slice from a DataFrame\n",
      "\n",
      "See the caveats in the documentation: https://pandas.pydata.org/pandas-docs/stable/user_guide/indexing.html#returning-a-view-versus-a-copy\n",
      "  df_1.drop('locality',axis = 1,inplace = True)\n"
     ]
    }
   ],
   "source": [
    "df_1.drop('locality',axis = 1,inplace = True)"
   ]
  },
  {
   "cell_type": "code",
   "execution_count": 10,
   "id": "6a0170d7",
   "metadata": {},
   "outputs": [
    {
     "name": "stderr",
     "output_type": "stream",
     "text": [
      "C:\\Users\\HP\\AppData\\Local\\Temp\\ipykernel_9272\\2863304762.py:1: SettingWithCopyWarning: \n",
      "A value is trying to be set on a copy of a slice from a DataFrame\n",
      "\n",
      "See the caveats in the documentation: https://pandas.pydata.org/pandas-docs/stable/user_guide/indexing.html#returning-a-view-versus-a-copy\n",
      "  df_1.drop('area',axis = 1,inplace = True)\n"
     ]
    }
   ],
   "source": [
    "df_1.drop('area',axis = 1,inplace = True)"
   ]
  },
  {
   "cell_type": "code",
   "execution_count": 11,
   "id": "320c5b46",
   "metadata": {},
   "outputs": [
    {
     "name": "stderr",
     "output_type": "stream",
     "text": [
      "C:\\Users\\HP\\AppData\\Local\\Temp\\ipykernel_9272\\3670918143.py:1: SettingWithCopyWarning: \n",
      "A value is trying to be set on a copy of a slice from a DataFrame\n",
      "\n",
      "See the caveats in the documentation: https://pandas.pydata.org/pandas-docs/stable/user_guide/indexing.html#returning-a-view-versus-a-copy\n",
      "  df_1.drop('purpose',axis = 1,inplace = True)\n"
     ]
    }
   ],
   "source": [
    "df_1.drop('purpose',axis = 1,inplace = True)"
   ]
  },
  {
   "cell_type": "code",
   "execution_count": 12,
   "id": "06f14287",
   "metadata": {},
   "outputs": [
    {
     "data": {
      "text/plain": [
       "DHA Defence                        45\n",
       "Gulistan-e-Jauhar                  40\n",
       "Bahria Town Karachi                37\n",
       "Gulshan-e-Iqbal Town               25\n",
       "Cantt                              22\n",
       "Scheme 33                          18\n",
       "North Karachi                      15\n",
       "Clifton                            14\n",
       "North Nazimabad                    14\n",
       "Gadap Town                         11\n",
       "Malir                              11\n",
       "Jamshed Town                        7\n",
       "Federal B Area                      5\n",
       "Korangi                             5\n",
       "Navy Housing Scheme Karsaz          3\n",
       "Nazimabad                           3\n",
       "Bath Island                         3\n",
       "Korangi Road                        2\n",
       "Shahra-e-Faisal                     2\n",
       "Shah Faisal Town                    2\n",
       "Jinnah Avenue                       2\n",
       "Malir Link To Super Highway         2\n",
       "New Karachi                         2\n",
       "Anda Mor Road                       1\n",
       "Lyari Town                          1\n",
       "Orangi Town                         1\n",
       "Gulshan-e-Areesha                   1\n",
       "Muslimabad Society                  1\n",
       "Saddar Town                         1\n",
       "Dalmia Cement Factory Road          1\n",
       "Aisha Manzil                        1\n",
       "Gulberg Town                        1\n",
       "Defence View Society                1\n",
       "Maskan Chowrangi                    1\n",
       "Gulshan-e-Usman Housing Society     1\n",
       "Naval Housing Scheme                1\n",
       "Hill Park                           1\n",
       "Amil Colony                         1\n",
       "Shaheed Millat Road                 1\n",
       "Civil Lines                         1\n",
       "Fazaia Housing Scheme               1\n",
       "Kemari Town                         1\n",
       "Jamshed Road                        1\n",
       "Hassan Goth                         1\n",
       "Chapal Skymark                      1\n",
       "Bahria Town                         1\n",
       "Name: location, dtype: int64"
      ]
     },
     "execution_count": 12,
     "metadata": {},
     "output_type": "execute_result"
    }
   ],
   "source": [
    "df_1['location'].value_counts()"
   ]
  },
  {
   "cell_type": "code",
   "execution_count": 13,
   "id": "8dd8d004",
   "metadata": {},
   "outputs": [
    {
     "data": {
      "text/plain": [
       "Flat             151\n",
       "House            137\n",
       "Upper Portion     14\n",
       "Lower Portion      9\n",
       "Penthouse          1\n",
       "Farm House         1\n",
       "Name: property_type, dtype: int64"
      ]
     },
     "execution_count": 13,
     "metadata": {},
     "output_type": "execute_result"
    }
   ],
   "source": [
    "df_1['property_type'].value_counts()"
   ]
  },
  {
   "cell_type": "markdown",
   "id": "8d87cea2",
   "metadata": {},
   "source": [
    "# Correlations"
   ]
  },
  {
   "cell_type": "code",
   "execution_count": 14,
   "id": "a822b535",
   "metadata": {},
   "outputs": [],
   "source": [
    "corr_matrix = df_1.corr()"
   ]
  },
  {
   "cell_type": "code",
   "execution_count": 15,
   "id": "8713689d",
   "metadata": {},
   "outputs": [
    {
     "data": {
      "text/plain": [
       "price         1.000000\n",
       "bedrooms      0.393418\n",
       "area_sqft     0.344788\n",
       "area_marla    0.344788\n",
       "baths         0.310218\n",
       "longitude    -0.043726\n",
       "latitude     -0.054136\n",
       "Name: price, dtype: float64"
      ]
     },
     "execution_count": 15,
     "metadata": {},
     "output_type": "execute_result"
    }
   ],
   "source": [
    "corr_matrix['price'].sort_values(ascending=False)"
   ]
  },
  {
   "cell_type": "code",
   "execution_count": 16,
   "id": "e569045e",
   "metadata": {},
   "outputs": [
    {
     "data": {
      "text/html": [
       "<div>\n",
       "<style scoped>\n",
       "    .dataframe tbody tr th:only-of-type {\n",
       "        vertical-align: middle;\n",
       "    }\n",
       "\n",
       "    .dataframe tbody tr th {\n",
       "        vertical-align: top;\n",
       "    }\n",
       "\n",
       "    .dataframe thead th {\n",
       "        text-align: right;\n",
       "    }\n",
       "</style>\n",
       "<table border=\"1\" class=\"dataframe\">\n",
       "  <thead>\n",
       "    <tr style=\"text-align: right;\">\n",
       "      <th></th>\n",
       "      <th>price</th>\n",
       "      <th>latitude</th>\n",
       "      <th>longitude</th>\n",
       "      <th>baths</th>\n",
       "      <th>area_marla</th>\n",
       "      <th>area_sqft</th>\n",
       "      <th>bedrooms</th>\n",
       "    </tr>\n",
       "  </thead>\n",
       "  <tbody>\n",
       "    <tr>\n",
       "      <th>count</th>\n",
       "      <td>3.130000e+02</td>\n",
       "      <td>313.000000</td>\n",
       "      <td>313.000000</td>\n",
       "      <td>313.000000</td>\n",
       "      <td>313.000000</td>\n",
       "      <td>313.000000</td>\n",
       "      <td>313.000000</td>\n",
       "    </tr>\n",
       "    <tr>\n",
       "      <th>mean</th>\n",
       "      <td>2.943545e+07</td>\n",
       "      <td>24.943888</td>\n",
       "      <td>67.140690</td>\n",
       "      <td>3.083067</td>\n",
       "      <td>9.638019</td>\n",
       "      <td>2623.959585</td>\n",
       "      <td>3.354633</td>\n",
       "    </tr>\n",
       "    <tr>\n",
       "      <th>std</th>\n",
       "      <td>4.709598e+07</td>\n",
       "      <td>0.501741</td>\n",
       "      <td>0.355617</td>\n",
       "      <td>1.860383</td>\n",
       "      <td>19.187634</td>\n",
       "      <td>5223.852906</td>\n",
       "      <td>1.846372</td>\n",
       "    </tr>\n",
       "    <tr>\n",
       "      <th>min</th>\n",
       "      <td>2.000000e+06</td>\n",
       "      <td>24.779955</td>\n",
       "      <td>66.974201</td>\n",
       "      <td>0.000000</td>\n",
       "      <td>2.000000</td>\n",
       "      <td>544.500000</td>\n",
       "      <td>0.000000</td>\n",
       "    </tr>\n",
       "    <tr>\n",
       "      <th>25%</th>\n",
       "      <td>7.000000e+06</td>\n",
       "      <td>24.866563</td>\n",
       "      <td>67.062500</td>\n",
       "      <td>2.000000</td>\n",
       "      <td>4.700000</td>\n",
       "      <td>1279.580000</td>\n",
       "      <td>2.000000</td>\n",
       "    </tr>\n",
       "    <tr>\n",
       "      <th>50%</th>\n",
       "      <td>1.500000e+07</td>\n",
       "      <td>24.920535</td>\n",
       "      <td>67.096539</td>\n",
       "      <td>3.000000</td>\n",
       "      <td>6.900000</td>\n",
       "      <td>1878.530000</td>\n",
       "      <td>3.000000</td>\n",
       "    </tr>\n",
       "    <tr>\n",
       "      <th>75%</th>\n",
       "      <td>3.200000e+07</td>\n",
       "      <td>24.957723</td>\n",
       "      <td>67.154935</td>\n",
       "      <td>4.000000</td>\n",
       "      <td>9.800000</td>\n",
       "      <td>2668.060000</td>\n",
       "      <td>4.000000</td>\n",
       "    </tr>\n",
       "    <tr>\n",
       "      <th>max</th>\n",
       "      <td>5.500000e+08</td>\n",
       "      <td>33.692638</td>\n",
       "      <td>73.218813</td>\n",
       "      <td>10.000000</td>\n",
       "      <td>320.000000</td>\n",
       "      <td>87120.320000</td>\n",
       "      <td>12.000000</td>\n",
       "    </tr>\n",
       "  </tbody>\n",
       "</table>\n",
       "</div>"
      ],
      "text/plain": [
       "              price    latitude   longitude       baths  area_marla  \\\n",
       "count  3.130000e+02  313.000000  313.000000  313.000000  313.000000   \n",
       "mean   2.943545e+07   24.943888   67.140690    3.083067    9.638019   \n",
       "std    4.709598e+07    0.501741    0.355617    1.860383   19.187634   \n",
       "min    2.000000e+06   24.779955   66.974201    0.000000    2.000000   \n",
       "25%    7.000000e+06   24.866563   67.062500    2.000000    4.700000   \n",
       "50%    1.500000e+07   24.920535   67.096539    3.000000    6.900000   \n",
       "75%    3.200000e+07   24.957723   67.154935    4.000000    9.800000   \n",
       "max    5.500000e+08   33.692638   73.218813   10.000000  320.000000   \n",
       "\n",
       "          area_sqft    bedrooms  \n",
       "count    313.000000  313.000000  \n",
       "mean    2623.959585    3.354633  \n",
       "std     5223.852906    1.846372  \n",
       "min      544.500000    0.000000  \n",
       "25%     1279.580000    2.000000  \n",
       "50%     1878.530000    3.000000  \n",
       "75%     2668.060000    4.000000  \n",
       "max    87120.320000   12.000000  "
      ]
     },
     "execution_count": 16,
     "metadata": {},
     "output_type": "execute_result"
    }
   ],
   "source": [
    "df_1.describe()"
   ]
  },
  {
   "cell_type": "markdown",
   "id": "8e167934",
   "metadata": {},
   "source": [
    "# Some Preprocessing"
   ]
  },
  {
   "cell_type": "code",
   "execution_count": 17,
   "id": "cf0126f6",
   "metadata": {},
   "outputs": [],
   "source": [
    "df_1 = df_1.drop(['property_type','location','city'], axis='columns')"
   ]
  },
  {
   "cell_type": "code",
   "execution_count": 18,
   "id": "1c3b6855",
   "metadata": {},
   "outputs": [
    {
     "data": {
      "text/html": [
       "<div>\n",
       "<style scoped>\n",
       "    .dataframe tbody tr th:only-of-type {\n",
       "        vertical-align: middle;\n",
       "    }\n",
       "\n",
       "    .dataframe tbody tr th {\n",
       "        vertical-align: top;\n",
       "    }\n",
       "\n",
       "    .dataframe thead th {\n",
       "        text-align: right;\n",
       "    }\n",
       "</style>\n",
       "<table border=\"1\" class=\"dataframe\">\n",
       "  <thead>\n",
       "    <tr style=\"text-align: right;\">\n",
       "      <th></th>\n",
       "      <th>price</th>\n",
       "      <th>latitude</th>\n",
       "      <th>longitude</th>\n",
       "      <th>baths</th>\n",
       "      <th>area_marla</th>\n",
       "      <th>area_sqft</th>\n",
       "      <th>bedrooms</th>\n",
       "    </tr>\n",
       "  </thead>\n",
       "  <tbody>\n",
       "    <tr>\n",
       "      <th>56800</th>\n",
       "      <td>14400000</td>\n",
       "      <td>24.923999</td>\n",
       "      <td>67.134140</td>\n",
       "      <td>5</td>\n",
       "      <td>9.6</td>\n",
       "      <td>2613.61</td>\n",
       "      <td>5</td>\n",
       "    </tr>\n",
       "    <tr>\n",
       "      <th>56738</th>\n",
       "      <td>12500000</td>\n",
       "      <td>24.938913</td>\n",
       "      <td>67.140593</td>\n",
       "      <td>0</td>\n",
       "      <td>5.1</td>\n",
       "      <td>1388.48</td>\n",
       "      <td>4</td>\n",
       "    </tr>\n",
       "    <tr>\n",
       "      <th>56684</th>\n",
       "      <td>120000000</td>\n",
       "      <td>24.782215</td>\n",
       "      <td>67.074537</td>\n",
       "      <td>8</td>\n",
       "      <td>24.0</td>\n",
       "      <td>6534.02</td>\n",
       "      <td>8</td>\n",
       "    </tr>\n",
       "    <tr>\n",
       "      <th>56740</th>\n",
       "      <td>40000000</td>\n",
       "      <td>24.920384</td>\n",
       "      <td>67.129162</td>\n",
       "      <td>0</td>\n",
       "      <td>16.0</td>\n",
       "      <td>4356.02</td>\n",
       "      <td>6</td>\n",
       "    </tr>\n",
       "    <tr>\n",
       "      <th>56685</th>\n",
       "      <td>25000000</td>\n",
       "      <td>24.964623</td>\n",
       "      <td>67.168558</td>\n",
       "      <td>6</td>\n",
       "      <td>9.6</td>\n",
       "      <td>2613.61</td>\n",
       "      <td>6</td>\n",
       "    </tr>\n",
       "  </tbody>\n",
       "</table>\n",
       "</div>"
      ],
      "text/plain": [
       "           price   latitude  longitude  baths  area_marla  area_sqft  bedrooms\n",
       "56800   14400000  24.923999  67.134140      5         9.6    2613.61         5\n",
       "56738   12500000  24.938913  67.140593      0         5.1    1388.48         4\n",
       "56684  120000000  24.782215  67.074537      8        24.0    6534.02         8\n",
       "56740   40000000  24.920384  67.129162      0        16.0    4356.02         6\n",
       "56685   25000000  24.964623  67.168558      6         9.6    2613.61         6"
      ]
     },
     "execution_count": 18,
     "metadata": {},
     "output_type": "execute_result"
    }
   ],
   "source": [
    "df_1.sample(5)\n"
   ]
  },
  {
   "cell_type": "code",
   "execution_count": 19,
   "id": "5c1db987",
   "metadata": {},
   "outputs": [],
   "source": [
    "x = df_1.drop(['price'], axis='columns')\n",
    "y = df_1.price"
   ]
  },
  {
   "cell_type": "markdown",
   "id": "4d793628",
   "metadata": {},
   "source": [
    "# Train Test Splitting "
   ]
  },
  {
   "cell_type": "code",
   "execution_count": 20,
   "id": "3fb972c9",
   "metadata": {},
   "outputs": [],
   "source": [
    "x_train, x_test, y_train, y_test = train_test_split(x,y,test_size=0.2,random_state=10)"
   ]
  },
  {
   "cell_type": "markdown",
   "id": "440f26e5",
   "metadata": {},
   "source": [
    "# Picking up a desire model for better predictions"
   ]
  },
  {
   "cell_type": "code",
   "execution_count": 21,
   "id": "237c6820",
   "metadata": {},
   "outputs": [
    {
     "data": {
      "text/plain": [
       "[('RR', RandomForestRegressor())]"
      ]
     },
     "execution_count": 21,
     "metadata": {},
     "output_type": "execute_result"
    }
   ],
   "source": [
    "models = []\n",
    "# models.append(('LR',LinearRegression()))\n",
    "# models.append(('Ex',ExtraTreesRegressor()))\n",
    "# models.append(('Dt',DecisionTreeRegressor()))\n",
    "# models.append(('AR',AdaBoostRegressor()))#\n",
    "models.append(('RR',RandomForestRegressor()))\n",
    "# models.append(('Gn',GaussianNB()))\n",
    "# models.append(('Sg',SGDRegressor()))\n",
    "# models.append(('Kr',KernelRidge()))\n",
    "# models.append(('Er',ElasticNet()))\n",
    "# models.append(('Br',BayesianRidge()))\n",
    "# models.append(('SVR',SVR()))\n",
    "# models.append(('Xg',XGBRegressor()))\n",
    "# models.append(('LG',LGBMRegressor()))\n",
    "# models.append(('CB',CatBoostRegressor()))#\n",
    "# models.append(('BR',BaggingRegressor()))\n",
    "# models.append(('GR',GradientBoostingRegressor()))\n",
    "models"
   ]
  },
  {
   "cell_type": "code",
   "execution_count": 22,
   "id": "4ac5f8a7",
   "metadata": {},
   "outputs": [],
   "source": [
    "results = []\n",
    "names = []"
   ]
  },
  {
   "cell_type": "code",
   "execution_count": 23,
   "id": "6ba4a5e7",
   "metadata": {},
   "outputs": [
    {
     "name": "stdout",
     "output_type": "stream",
     "text": [
      "[1.0]\n"
     ]
    }
   ],
   "source": [
    "for name, model in models:\n",
    "    model.fit(x_train,y_train)\n",
    "    y_pred = model.predict(x_test)\n",
    "    results.append(model.score(x_test,y_pred))\n",
    "    print(results)"
   ]
  },
  {
   "cell_type": "code",
   "execution_count": 24,
   "id": "50a80658",
   "metadata": {},
   "outputs": [
    {
     "data": {
      "text/html": [
       "<div>\n",
       "<style scoped>\n",
       "    .dataframe tbody tr th:only-of-type {\n",
       "        vertical-align: middle;\n",
       "    }\n",
       "\n",
       "    .dataframe tbody tr th {\n",
       "        vertical-align: top;\n",
       "    }\n",
       "\n",
       "    .dataframe thead th {\n",
       "        text-align: right;\n",
       "    }\n",
       "</style>\n",
       "<table border=\"1\" class=\"dataframe\">\n",
       "  <thead>\n",
       "    <tr style=\"text-align: right;\">\n",
       "      <th></th>\n",
       "      <th>latitude</th>\n",
       "      <th>longitude</th>\n",
       "      <th>baths</th>\n",
       "      <th>area_marla</th>\n",
       "      <th>area_sqft</th>\n",
       "      <th>bedrooms</th>\n",
       "    </tr>\n",
       "  </thead>\n",
       "  <tbody>\n",
       "    <tr>\n",
       "      <th>56735</th>\n",
       "      <td>24.819653</td>\n",
       "      <td>67.077749</td>\n",
       "      <td>4</td>\n",
       "      <td>4.0</td>\n",
       "      <td>1089.00</td>\n",
       "      <td>4</td>\n",
       "    </tr>\n",
       "    <tr>\n",
       "      <th>56901</th>\n",
       "      <td>24.937425</td>\n",
       "      <td>67.182856</td>\n",
       "      <td>3</td>\n",
       "      <td>11.4</td>\n",
       "      <td>3103.66</td>\n",
       "      <td>3</td>\n",
       "    </tr>\n",
       "    <tr>\n",
       "      <th>56792</th>\n",
       "      <td>24.883427</td>\n",
       "      <td>67.164488</td>\n",
       "      <td>2</td>\n",
       "      <td>2.8</td>\n",
       "      <td>762.30</td>\n",
       "      <td>2</td>\n",
       "    </tr>\n",
       "    <tr>\n",
       "      <th>56834</th>\n",
       "      <td>24.832117</td>\n",
       "      <td>67.063637</td>\n",
       "      <td>4</td>\n",
       "      <td>8.0</td>\n",
       "      <td>2178.01</td>\n",
       "      <td>3</td>\n",
       "    </tr>\n",
       "    <tr>\n",
       "      <th>56851</th>\n",
       "      <td>24.949734</td>\n",
       "      <td>67.182861</td>\n",
       "      <td>2</td>\n",
       "      <td>4.9</td>\n",
       "      <td>1334.03</td>\n",
       "      <td>2</td>\n",
       "    </tr>\n",
       "  </tbody>\n",
       "</table>\n",
       "</div>"
      ],
      "text/plain": [
       "        latitude  longitude  baths  area_marla  area_sqft  bedrooms\n",
       "56735  24.819653  67.077749      4         4.0    1089.00         4\n",
       "56901  24.937425  67.182856      3        11.4    3103.66         3\n",
       "56792  24.883427  67.164488      2         2.8     762.30         2\n",
       "56834  24.832117  67.063637      4         8.0    2178.01         3\n",
       "56851  24.949734  67.182861      2         4.9    1334.03         2"
      ]
     },
     "execution_count": 24,
     "metadata": {},
     "output_type": "execute_result"
    }
   ],
   "source": [
    "x_test.head()"
   ]
  },
  {
   "cell_type": "markdown",
   "id": "d5bcc1fe",
   "metadata": {},
   "source": [
    "# Predictions"
   ]
  },
  {
   "cell_type": "code",
   "execution_count": 25,
   "id": "2d56f256",
   "metadata": {},
   "outputs": [
    {
     "name": "stderr",
     "output_type": "stream",
     "text": [
      "D:\\anaconda install\\lib\\site-packages\\sklearn\\base.py:450: UserWarning: X does not have valid feature names, but RandomForestRegressor was fitted with feature names\n",
      "  warnings.warn(\n"
     ]
    },
    {
     "data": {
      "text/plain": [
       "array([34285000.])"
      ]
     },
     "execution_count": 25,
     "metadata": {},
     "output_type": "execute_result"
    }
   ],
   "source": [
    "input_1 = np.array([[24.819653,67.077749,4,4.0,1089.00,4]])\n",
    "model.predict(input_1)"
   ]
  },
  {
   "cell_type": "code",
   "execution_count": 26,
   "id": "3aa4fab5",
   "metadata": {},
   "outputs": [
    {
     "data": {
      "text/plain": [
       "56735    36500000\n",
       "56901    32500000\n",
       "56792     2800000\n",
       "56834    18500000\n",
       "56851    10000000\n",
       "Name: price, dtype: int64"
      ]
     },
     "execution_count": 26,
     "metadata": {},
     "output_type": "execute_result"
    }
   ],
   "source": [
    "y_test.head()"
   ]
  },
  {
   "cell_type": "markdown",
   "id": "a7b863e8",
   "metadata": {},
   "source": [
    "# Dump the model for usage"
   ]
  },
  {
   "cell_type": "code",
   "execution_count": 27,
   "id": "c2824e82",
   "metadata": {},
   "outputs": [
    {
     "data": {
      "text/plain": [
       "['home.joblib']"
      ]
     },
     "execution_count": 27,
     "metadata": {},
     "output_type": "execute_result"
    }
   ],
   "source": [
    "dump(model,'home.joblib')"
   ]
  },
  {
   "cell_type": "code",
   "execution_count": null,
   "id": "aeb988c8",
   "metadata": {},
   "outputs": [],
   "source": []
  },
  {
   "cell_type": "code",
   "execution_count": null,
   "id": "54bfb9c7",
   "metadata": {},
   "outputs": [],
   "source": []
  },
  {
   "cell_type": "code",
   "execution_count": null,
   "id": "08bbeda1",
   "metadata": {},
   "outputs": [],
   "source": []
  },
  {
   "cell_type": "code",
   "execution_count": null,
   "id": "bc7eeb0b",
   "metadata": {},
   "outputs": [],
   "source": []
  },
  {
   "cell_type": "code",
   "execution_count": null,
   "id": "79f2e207",
   "metadata": {},
   "outputs": [],
   "source": []
  }
 ],
 "metadata": {
  "kernelspec": {
   "display_name": "Python 3 (ipykernel)",
   "language": "python",
   "name": "python3"
  },
  "language_info": {
   "codemirror_mode": {
    "name": "ipython",
    "version": 3
   },
   "file_extension": ".py",
   "mimetype": "text/x-python",
   "name": "python",
   "nbconvert_exporter": "python",
   "pygments_lexer": "ipython3",
   "version": "3.9.12"
  }
 },
 "nbformat": 4,
 "nbformat_minor": 5
}
