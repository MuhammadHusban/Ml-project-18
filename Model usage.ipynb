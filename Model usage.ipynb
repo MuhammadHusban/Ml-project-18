{
 "cells": [
  {
   "cell_type": "code",
   "execution_count": 1,
   "id": "edc7cc5c",
   "metadata": {},
   "outputs": [],
   "source": [
    "from joblib import load\n",
    "import numpy as np\n"
   ]
  },
  {
   "cell_type": "code",
   "execution_count": 2,
   "id": "081d91b0",
   "metadata": {},
   "outputs": [],
   "source": [
    "model = load('home.joblib')"
   ]
  },
  {
   "cell_type": "code",
   "execution_count": 3,
   "id": "ba417d9a",
   "metadata": {},
   "outputs": [
    {
     "name": "stderr",
     "output_type": "stream",
     "text": [
      "D:\\anaconda install\\lib\\site-packages\\sklearn\\base.py:450: UserWarning: X does not have valid feature names, but RandomForestRegressor was fitted with feature names\n",
      "  warnings.warn(\n"
     ]
    },
    {
     "data": {
      "text/plain": [
       "array([34285000.])"
      ]
     },
     "execution_count": 3,
     "metadata": {},
     "output_type": "execute_result"
    }
   ],
   "source": [
    "input_1 = np.array([[24.819653,67.077749,4,4.0,1089.00,4]])\n",
    "model.predict(input_1)"
   ]
  },
  {
   "cell_type": "code",
   "execution_count": null,
   "id": "7ff68631",
   "metadata": {},
   "outputs": [],
   "source": []
  }
 ],
 "metadata": {
  "kernelspec": {
   "display_name": "Python 3 (ipykernel)",
   "language": "python",
   "name": "python3"
  },
  "language_info": {
   "codemirror_mode": {
    "name": "ipython",
    "version": 3
   },
   "file_extension": ".py",
   "mimetype": "text/x-python",
   "name": "python",
   "nbconvert_exporter": "python",
   "pygments_lexer": "ipython3",
   "version": "3.9.12"
  }
 },
 "nbformat": 4,
 "nbformat_minor": 5
}
